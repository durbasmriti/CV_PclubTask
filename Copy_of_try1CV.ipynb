see Untitled0.ipynb file for code
